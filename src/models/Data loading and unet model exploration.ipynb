{
 "cells": [
  {
   "cell_type": "code",
   "execution_count": 7,
   "id": "f250580e-9506-4fce-af84-c70bdad93706",
   "metadata": {},
   "outputs": [],
   "source": [
    "import torch\n",
    "from torch import nn\n",
    "import numpy as np\n",
    "import rasterio\n"
   ]
  },
  {
   "cell_type": "code",
   "execution_count": 25,
   "id": "48acf3f1-8e27-4e05-8b09-6689394a0bfc",
   "metadata": {},
   "outputs": [],
   "source": [
    "def load_data(data_path, usage, is_label=False, apply_normalization=False, \n",
    "              normal_strategy=\"z_value\", stat_procedure=\"gpb\", global_stats=None, \n",
    "              dtype=np.float32, verbose=False):\n",
    "    r\"\"\"\n",
    "    Open data using gdal, read it as an array and normalize it.\n",
    "\n",
    "    Arguments:\n",
    "            data_path (string): Full path including filename of the data source we wish to load.\n",
    "            usage (string): Either \"train\", \"validation\", \"inference\".\n",
    "            is_label (binary): If True then the layer is a ground truth (category index) and if\n",
    "                                set to False the layer is a reflectance band.\n",
    "            apply_normalization (binary): If true min/max normalization will be applied on each band.\n",
    "            normal_strategy (str): Strategy for normalization. Either 'min_max'\n",
    "                               or 'z_value'.\n",
    "            stat_procedure (str): Procedure to calculate the statistics used in normalization.\n",
    "                              Options:\n",
    "                                    - 'lab': local tile over all bands.\n",
    "                                    - 'gab': global over all bands.\n",
    "                                    - 'lpb': local tile per band.\n",
    "                                    - 'gpb': global per band.\n",
    "            global_stats (dict): Optional dictionary containing the 'min', 'max', 'mean', and 'std' arrays \n",
    "                                 for each band. If not provided, these values will be calculated from the data.\n",
    "            dtype (np.dtype): Data type of the output image chips.\n",
    "            verbose (binary): if set to true, print a screen statement on the loaded band.\n",
    "\n",
    "    Returns:\n",
    "            image: Returns the loaded image as a 32-bit float numpy ndarray.\n",
    "    \"\"\"\n",
    "\n",
    "    # Inform user of the file names being loaded from the Dataset.\n",
    "    if verbose:\n",
    "        print('loading file:{}'.format(data_path))\n",
    "\n",
    "    # open dataset using rasterio library.\n",
    "    with rasterio.open(data_path, \"r\") as src:\n",
    "        \n",
    "\n",
    "        if is_label:\n",
    "            if src.count != 1:\n",
    "                raise ValueError(\"Expected Label to have exactly one channel.\")\n",
    "            img = src.read(1)\n",
    "            return img\n",
    "\n",
    "        else:\n",
    "            print(\"Inside $$$$\")\n",
    "            meta = src.meta\n",
    "            if apply_normalization:\n",
    "                img = do_normalization(src.read(), normal_strategy, stat_procedure,\n",
    "                                        bounds=(0, 1), clip_val=1, global_stats=global_stats)\n",
    "                img = img.astype(dtype)\n",
    "            else:\n",
    "                img = src.read()\n",
    "                img = img.astype(dtype)\n",
    "\n",
    "    if usage in [\"train\", \"validation\"]:\n",
    "        return img\n",
    "    else:\n",
    "        return img, meta"
   ]
  },
  {
   "cell_type": "code",
   "execution_count": 28,
   "id": "0217a5b0-89ca-4b0f-ba61-c9f08195939b",
   "metadata": {},
   "outputs": [
    {
     "name": "stdout",
     "output_type": "stream",
     "text": [
      "Inside $$$$\n"
     ]
    }
   ],
   "source": [
    "path=\"/shishir/All_Datasets/NASA-Crop-Classification/training_chips/chip_421_329_merged.tif\"\n",
    "k=load_data(path,usage=\"train\")"
   ]
  },
  {
   "cell_type": "code",
   "execution_count": 29,
   "id": "b0783f65-8840-4777-98d1-b059f84fae61",
   "metadata": {},
   "outputs": [
    {
     "data": {
      "text/plain": [
       "(18, 224, 224)"
      ]
     },
     "execution_count": 29,
     "metadata": {},
     "output_type": "execute_result"
    }
   ],
   "source": [
    "k.shape"
   ]
  },
  {
   "cell_type": "code",
   "execution_count": 30,
   "id": "87bb34e0-517e-4faf-998e-de892ce78b00",
   "metadata": {},
   "outputs": [
    {
     "name": "stdout",
     "output_type": "stream",
     "text": [
      "Requirement already satisfied: tifffile in /opt/conda/lib/python3.10/site-packages (2024.2.12)\n",
      "Requirement already satisfied: numpy in /opt/conda/lib/python3.10/site-packages (from tifffile) (1.22.3)\n",
      "\u001b[33mWARNING: Running pip as the 'root' user can result in broken permissions and conflicting behaviour with the system package manager. It is recommended to use a virtual environment instead: https://pip.pypa.io/warnings/venv\u001b[0m\u001b[33m\n",
      "\u001b[0m"
     ]
    }
   ],
   "source": [
    "# !pip install tifffile\n"
   ]
  },
  {
   "cell_type": "code",
   "execution_count": 19,
   "id": "5c7bf894-015a-49ad-92c6-1c370cfd95f7",
   "metadata": {},
   "outputs": [],
   "source": [
    "import tifffile"
   ]
  },
  {
   "cell_type": "code",
   "execution_count": 20,
   "id": "5d19c9cd-8448-4f37-bd4e-69a21ff058b6",
   "metadata": {},
   "outputs": [],
   "source": [
    "data = tifffile.imread(path)"
   ]
  },
  {
   "cell_type": "code",
   "execution_count": 22,
   "id": "6ae3f7ba-1888-4798-a8ca-37fdd53ef1f9",
   "metadata": {},
   "outputs": [
    {
     "data": {
      "text/plain": [
       "(224, 224, 18)"
      ]
     },
     "execution_count": 22,
     "metadata": {},
     "output_type": "execute_result"
    }
   ],
   "source": [
    "data.shape"
   ]
  },
  {
   "cell_type": "code",
   "execution_count": 48,
   "id": "01ac25e3-af14-4389-97c3-4345f7832ed3",
   "metadata": {},
   "outputs": [],
   "source": [
    "a=[[1,2,3],[4,-3,6]]"
   ]
  },
  {
   "cell_type": "code",
   "execution_count": 49,
   "id": "69dfba9d-c083-43b3-a528-8f0be821035c",
   "metadata": {},
   "outputs": [],
   "source": [
    "import numpy as np"
   ]
  },
  {
   "cell_type": "code",
   "execution_count": 50,
   "id": "da20deb7-27ea-489c-bc38-3c9599c0fe53",
   "metadata": {},
   "outputs": [],
   "source": [
    "a1=np.array(a)"
   ]
  },
  {
   "cell_type": "code",
   "execution_count": 46,
   "id": "f8cd7708-bb0a-4abe-8a8e-ed46a17088e4",
   "metadata": {},
   "outputs": [],
   "source": [
    "l=a1.max()"
   ]
  },
  {
   "cell_type": "code",
   "execution_count": 47,
   "id": "7eccf7dd-f647-4a11-b9aa-ff5118629585",
   "metadata": {},
   "outputs": [
    {
     "data": {
      "text/plain": [
       "6"
      ]
     },
     "execution_count": 47,
     "metadata": {},
     "output_type": "execute_result"
    }
   ],
   "source": [
    "l"
   ]
  },
  {
   "cell_type": "code",
   "execution_count": 51,
   "id": "7040782b-ac92-44bd-9f1c-d19593247e88",
   "metadata": {},
   "outputs": [
    {
     "data": {
      "text/plain": [
       "array([1, 2, 3])"
      ]
     },
     "execution_count": 51,
     "metadata": {},
     "output_type": "execute_result"
    }
   ],
   "source": [
    "a1[0]"
   ]
  },
  {
   "cell_type": "code",
   "execution_count": 54,
   "id": "fdc56f69-b737-4b54-915e-6a9cf05768e0",
   "metadata": {},
   "outputs": [
    {
     "name": "stdout",
     "output_type": "stream",
     "text": [
      "1\n",
      "2\n",
      "3\n",
      "4\n",
      "-3\n",
      "6\n"
     ]
    }
   ],
   "source": [
    "for r in range(len(a1)):\n",
    "    for c in range(len(a1[0])):\n",
    "        print(a1[r][c])"
   ]
  },
  {
   "cell_type": "code",
   "execution_count": 55,
   "id": "e9f635a3-4ce1-4784-a03e-98c321fc875d",
   "metadata": {},
   "outputs": [],
   "source": [
    "mat=[[\"1\",\"1\",\"1\",\"1\",\"0\"],[\"1\",\"1\",\"1\",\"1\",\"0\"],[\"1\",\"1\",\"1\",\"1\",\"1\"],[\"1\",\"1\",\"1\",\"1\",\"1\"],[\"0\",\"0\",\"1\",\"1\",\"1\"]]"
   ]
  },
  {
   "cell_type": "code",
   "execution_count": 56,
   "id": "9bff4f28-0af1-4ae6-bb52-bd31f6907b12",
   "metadata": {},
   "outputs": [
    {
     "data": {
      "text/plain": [
       "[['1', '1', '1', '1', '0'],\n",
       " ['1', '1', '1', '1', '0'],\n",
       " ['1', '1', '1', '1', '1'],\n",
       " ['1', '1', '1', '1', '1'],\n",
       " ['0', '0', '1', '1', '1']]"
      ]
     },
     "execution_count": 56,
     "metadata": {},
     "output_type": "execute_result"
    }
   ],
   "source": [
    "mat"
   ]
  },
  {
   "cell_type": "code",
   "execution_count": 57,
   "id": "192db0be-2498-4808-b54e-2ae8415e56c2",
   "metadata": {},
   "outputs": [],
   "source": [
    "m1=[[\"0\",\"0\",\"0\",\"1\"],[\"1\",\"1\",\"0\",\"1\"],[\"1\",\"1\",\"1\",\"1\"],[\"0\",\"1\",\"1\",\"1\"],[\"0\",\"1\",\"1\",\"1\"]]"
   ]
  },
  {
   "cell_type": "code",
   "execution_count": 58,
   "id": "93f097f1-18e5-4228-86a5-9bad59f54875",
   "metadata": {},
   "outputs": [
    {
     "data": {
      "text/plain": [
       "[['0', '0', '0', '1'],\n",
       " ['1', '1', '0', '1'],\n",
       " ['1', '1', '1', '1'],\n",
       " ['0', '1', '1', '1'],\n",
       " ['0', '1', '1', '1']]"
      ]
     },
     "execution_count": 58,
     "metadata": {},
     "output_type": "execute_result"
    }
   ],
   "source": [
    "m1"
   ]
  },
  {
   "cell_type": "code",
   "execution_count": 59,
   "id": "b3ac70dc-277b-4585-8d41-9736de67da54",
   "metadata": {},
   "outputs": [],
   "source": [
    "m1=[[\"1\",\"0\",\"1\",\"1\",\"1\"],[\"0\",\"1\",\"0\",\"1\",\"0\"],[\"1\",\"1\",\"0\",\"1\",\"1\"],[\"1\",\"1\",\"0\",\"1\",\"1\"],[\"0\",\"1\",\"1\",\"1\",\"1\"]]"
   ]
  },
  {
   "cell_type": "code",
   "execution_count": 60,
   "id": "1204fe24-7a1d-4a7f-9eb7-039f6fcc5995",
   "metadata": {},
   "outputs": [
    {
     "data": {
      "text/plain": [
       "[['1', '0', '1', '1', '1'],\n",
       " ['0', '1', '0', '1', '0'],\n",
       " ['1', '1', '0', '1', '1'],\n",
       " ['1', '1', '0', '1', '1'],\n",
       " ['0', '1', '1', '1', '1']]"
      ]
     },
     "execution_count": 60,
     "metadata": {},
     "output_type": "execute_result"
    }
   ],
   "source": [
    "m1"
   ]
  },
  {
   "cell_type": "code",
   "execution_count": null,
   "id": "ca65fc80-bba6-405f-b761-fd44b5ee061f",
   "metadata": {},
   "outputs": [],
   "source": [
    "[[1 0 1 1 1]\n",
    " [0 1 0 1 0]\n",
    " [1 1 0 1 1]\n",
    " [1 2 0 2 2]\n",
    " [0 2 2 2 3]]"
   ]
  }
 ],
 "metadata": {
  "kernelspec": {
   "display_name": "Python 3 (ipykernel)",
   "language": "python",
   "name": "python3"
  },
  "language_info": {
   "codemirror_mode": {
    "name": "ipython",
    "version": 3
   },
   "file_extension": ".py",
   "mimetype": "text/x-python",
   "name": "python",
   "nbconvert_exporter": "python",
   "pygments_lexer": "ipython3",
   "version": "3.10.8"
  }
 },
 "nbformat": 4,
 "nbformat_minor": 5
}
